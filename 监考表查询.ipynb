{
 "cells": [
  {
   "cell_type": "code",
   "execution_count": 9,
   "id": "c9f0bf8a",
   "metadata": {},
   "outputs": [
    {
     "name": "stdout",
     "output_type": "stream",
     "text": [
      "请输入要查询的名字:刘兰芳\n",
      "[2020145138.0, '刘兰芳', '2022/11/15', '8:30-10:30', '教一204', 'spark']\n"
     ]
    }
   ],
   "source": [
    "import pandas as pd\n",
    "n=input(\"请输入要查询的名字:\")\n",
    "data1=pd.read_csv('./hadoop.csv',encoding='utf-8')\n",
    "data2=pd.read_csv('./hive.csv',encoding='utf-8')\n",
    "data3=pd.read_csv('./spark.csv',encoding='utf-8')\n",
    "data4=pd.read_csv('./高数监考表.csv',encoding='utf-8')\n",
    "data = pd.concat([data1,data2,data3,data4])\n",
    "list = data.values.tolist()\n",
    "for i in list:\n",
    "    j=i[1]\n",
    "    if n ==j:\n",
    "        print(i)\n",
    "    "
   ]
  }
 ],
 "metadata": {
  "kernelspec": {
   "display_name": "Python 3 (ipykernel)",
   "language": "python",
   "name": "python3"
  },
  "language_info": {
   "codemirror_mode": {
    "name": "ipython",
    "version": 3
   },
   "file_extension": ".py",
   "mimetype": "text/x-python",
   "name": "python",
   "nbconvert_exporter": "python",
   "pygments_lexer": "ipython3",
   "version": "3.10.8"
  }
 },
 "nbformat": 4,
 "nbformat_minor": 5
}
