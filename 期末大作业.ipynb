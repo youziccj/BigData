{
 "cells": [
  {
   "cell_type": "code",
   "execution_count": 19,
   "id": "dc621cb4",
   "metadata": {},
   "outputs": [
    {
     "data": {
      "text/plain": [
       "[('王凤仪', 1586), ('杨靖鑫', 1560), ('陈皓锦', 1482), ('刘翔', 1443), ('陈文慧', 1352)]"
      ]
     },
     "execution_count": 19,
     "metadata": {},
     "output_type": "execute_result"
    }
   ],
   "source": [
    "import matplotlib\n",
    "matplotlib.use('TkAgg')\n",
    "import matplotlib.pyplot as plt\n",
    "from datascience import *\n",
    "\n",
    "data1 = Table.read_table('./20211105-utf-8.csv',encoding='gbk')\n",
    "data2 = Table.read_table('./20211105-utf-8.csv',encoding='gbk')\n",
    "data3 = Table.read_table('./20211105-utf-8.csv',encoding='gbk')\n",
    "data4 = Table.read_table('./20211105-utf-8.csv',encoding='gbk')\n",
    "data5 = Table.read_table('./20211105-utf-8.csv',encoding='gbk')\n",
    "data6 = Table.read_table('./20211105-utf-8.csv',encoding='gbk')\n",
    "data7 = Table.read_table('./20211105-utf-8.csv',encoding='gbk')\n",
    "\n",
    "\n",
    "data = {}\n",
    "\n",
    "def map(name,path):\n",
    "    a = path.where('姓名',name)\n",
    "    data[a.column(2).item(0)] = {'语文':a.column(3).item(0),'数学':a.column(4).item(0),'英语':a.column(5).item(0),'物理':a.column(6).item(0),'化学':a.column(7).item(0),'生物':a.column(8).item(0),'理综':a.column(9).item(0),'总分':a.column(10).item(0),}\n",
    "\n",
    "for i in range(64):\n",
    "    map(data1[2][i],table1)\n",
    "\n",
    "for i in data.keys():\n",
    "    a = data2.where('姓名',i)\n",
    "    b = data3.where('姓名',i)\n",
    "    c = data4.where('姓名',i)\n",
    "    d = data5.where('姓名',i)\n",
    "    e = data6.where('姓名',i)\n",
    "    f = data7.where('姓名',i)\n",
    "    \n",
    "    data[i]['语文'] = table[i]['语文'] + a.column(3).item(0) + b.column(3).item(0) + c.column(3).item(0) + d.column(3).item(0) + e.column(3).item(0) + f.column(3).item(0)\n",
    "    data[i]['数学'] = table[i]['数学'] + a.column(4).item(0) + b.column(4).item(0) + c.column(4).item(0) + d.column(4).item(0) + e.column(4).item(0) + f.column(4).item(0)\n",
    "    data[i]['英语'] = table[i]['英语'] + a.column(5).item(0) + b.column(5).item(0) + c.column(5).item(0) + d.column(5).item(0) + e.column(5).item(0) + f.column(5).item(0)\n",
    "    data[i]['物理'] = table[i]['物理'] + a.column(6).item(0) + b.column(6).item(0) + c.column(6).item(0) + d.column(6).item(0) + e.column(6).item(0) + f.column(6).item(0)\n",
    "    data[i]['化学'] = table[i]['化学'] + a.column(7).item(0) + b.column(7).item(0) + c.column(7).item(0) + d.column(7).item(0) + e.column(7).item(0) + f.column(7).item(0)\n",
    "    data[i]['生物'] = table[i]['生物'] + a.column(8).item(0) + b.column(8).item(0) + c.column(8).item(0) + d.column(8).item(0) + e.column(8).item(0) + f.column(8).item(0)\n",
    "    data[i]['理综'] = table[i]['理综'] + a.column(9).item(0) + b.column(9).item(0) + c.column(9).item(0) + d.column(9).item(0) + e.column(9).item(0) + f.column(9).item(0)\n",
    "    data[i]['总分'] = table[i]['总分'] + a.column(10).item(0) + b.column(10).item(0) + c.column(10).item(0) + d.column(10).item(0) + e.column(10).item(0) + f.column(10).item(0)\n",
    "    \n",
    "    \n",
    "Chinese = []\n",
    "Math = []\n",
    "English = []\n",
    "Physics = []\n",
    "Chemistry = []\n",
    "Creature = []\n",
    "Straightforward = []\n",
    "Sum = []\n",
    "for i in data.keys():\n",
    "    Chinese.append((i,data[i]['语文']))\n",
    "    Math.append((i,data[i]['数学']))\n",
    "    English.append((i,data[i]['英语']))\n",
    "    Physics.append((i,data[i]['物理']))\n",
    "    Chemistry.append((i,data[i]['化学']))\n",
    "    Creature.append((i,data[i]['生物']))\n",
    "    Straightforward.append((i, data[i]['理综']))\n",
    "    Sum.append((i,data[i]['总分']))\n",
    "    \n",
    "    \n",
    "Chinese_sort = sorted(Chinese, key=lambda x: x[1], reverse=True)[0:5]\n",
    "Math_sort = sorted(Math, key=lambda x: x[1], reverse=True)[0:5]\n",
    "English_sort = sorted(English, key=lambda x: x[1], reverse=True)[0:5]\n",
    "Physics_sort = sorted(Physics, key=lambda x: x[1], reverse=True)[0:5]\n",
    "Chemistry_sort = sorted(Chemistry, key=lambda x: x[1], reverse=True)[0:5]\n",
    "Creature_sort = sorted(Creature, key=lambda x: x[1], reverse=True)[0:5]\n",
    "Straightforward_sort = sorted(Straightforward, key=lambda x: x[1], reverse=True)[0:5]\n",
    "Sum_sort= sorted(Sum, key=lambda x: x[1], reverse=True)[0:5]\n",
    "\n",
    "Math_sort"
   ]
  },
  {
   "cell_type": "code",
   "execution_count": 20,
   "id": "3c77e098",
   "metadata": {},
   "outputs": [
    {
     "data": {
      "text/plain": [
       "[('潘虓虓', 1495), ('张然', 1495), ('唐杰', 1430), ('唐雯婕', 1430), ('何柃逸', 1417)]"
      ]
     },
     "execution_count": 20,
     "metadata": {},
     "output_type": "execute_result"
    }
   ],
   "source": [
    "English_sort"
   ]
  },
  {
   "cell_type": "code",
   "execution_count": 21,
   "id": "acb19e68",
   "metadata": {},
   "outputs": [
    {
     "data": {
      "text/plain": [
       "[('刘欢', 1612), ('何柃逸', 1573), ('王萱', 1534), ('陈颖', 1521), ('周靖珊', 1521)]"
      ]
     },
     "execution_count": 21,
     "metadata": {},
     "output_type": "execute_result"
    }
   ],
   "source": [
    "Chinese_sort"
   ]
  },
  {
   "cell_type": "code",
   "execution_count": null,
   "id": "f1b84ff4",
   "metadata": {},
   "outputs": [],
   "source": []
  }
 ],
 "metadata": {
  "kernelspec": {
   "display_name": "Python 3 (ipykernel)",
   "language": "python",
   "name": "python3"
  },
  "language_info": {
   "codemirror_mode": {
    "name": "ipython",
    "version": 3
   },
   "file_extension": ".py",
   "mimetype": "text/x-python",
   "name": "python",
   "nbconvert_exporter": "python",
   "pygments_lexer": "ipython3",
   "version": "3.10.8"
  }
 },
 "nbformat": 4,
 "nbformat_minor": 5
}
